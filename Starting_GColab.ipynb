{
  "nbformat": 4,
  "nbformat_minor": 0,
  "metadata": {
    "colab": {
      "provenance": [],
      "toc_visible": true,
      "authorship_tag": "ABX9TyOZHjbmqEGqGBBSJgG4gjAq",
      "include_colab_link": true
    },
    "kernelspec": {
      "name": "python3",
      "display_name": "Python 3"
    },
    "language_info": {
      "name": "python"
    }
  },
  "cells": [
    {
      "cell_type": "markdown",
      "metadata": {
        "id": "view-in-github",
        "colab_type": "text"
      },
      "source": [
        "<a href=\"https://colab.research.google.com/github/AnkitChoudhaary/summer-of-code-2023_IITD/blob/main/Starting_GColab.ipynb\" target=\"_parent\"><img src=\"https://colab.research.google.com/assets/colab-badge.svg\" alt=\"Open In Colab\"/></a>"
      ]
    },
    {
      "cell_type": "code",
      "execution_count": null,
      "metadata": {
        "id": "F00xGz-0Rhp1"
      },
      "outputs": [],
      "source": []
    },
    {
      "cell_type": "markdown",
      "source": [
        "### **This is starting of G colab**.\n"
      ],
      "metadata": {
        "id": "SUv4G9DjSB-J"
      }
    },
    {
      "cell_type": "code",
      "source": [
        "print('For getting from \\nweb.  !wget link \\n From drive use mannual keys\\nFrom git repo use !clone git link\\n for upload data from local do mannually')"
      ],
      "metadata": {
        "colab": {
          "base_uri": "https://localhost:8080/"
        },
        "id": "wJoUVXKRSPrq",
        "outputId": "e3014e68-7687-4e19-df97-859ca0d49091"
      },
      "execution_count": null,
      "outputs": [
        {
          "output_type": "stream",
          "name": "stdout",
          "text": [
            "For getting from \n",
            "web.  !wget link \n",
            " From drive use mannual keys\n",
            "From git repo use !clone git link\n",
            " for upload data from local do mannually\n"
          ]
        }
      ]
    },
    {
      "cell_type": "markdown",
      "source": [
        "##### Using text editor for multiple applications like writing **math eqn** Example $ x^2=5$ so $x= \\sqrt{5} $\n",
        "\n",
        "> and you can also do much more  intersting things using a text editor.\n",
        "\n",
        "\n"
      ],
      "metadata": {
        "id": "-NHH8JiDWda7"
      }
    },
    {
      "cell_type": "code",
      "source": [
        "!date"
      ],
      "metadata": {
        "colab": {
          "base_uri": "https://localhost:8080/"
        },
        "id": "pEzU0tfyo0ah",
        "outputId": "1dda8bb5-4dfe-40d6-df0f-fe1979de7cc7"
      },
      "execution_count": null,
      "outputs": [
        {
          "output_type": "stream",
          "name": "stdout",
          "text": [
            "Sat 24 Jun 2023 01:43:05 PM UTC\n"
          ]
        }
      ]
    },
    {
      "cell_type": "code",
      "source": [
        "!pwd"
      ],
      "metadata": {
        "colab": {
          "base_uri": "https://localhost:8080/"
        },
        "id": "C-xfXsGbpOGM",
        "outputId": "1793cd62-f8e9-4bd3-bafe-cfc475e622ff"
      },
      "execution_count": null,
      "outputs": [
        {
          "output_type": "stream",
          "name": "stdout",
          "text": [
            "/content\n"
          ]
        }
      ]
    },
    {
      "cell_type": "code",
      "source": [
        "!ls \\bin"
      ],
      "metadata": {
        "colab": {
          "base_uri": "https://localhost:8080/"
        },
        "id": "Uafb4pSRpTkq",
        "outputId": "9c1c25de-22c1-4fbd-8e46-2d901856cee8"
      },
      "execution_count": null,
      "outputs": [
        {
          "output_type": "stream",
          "name": "stdout",
          "text": [
            "ls: cannot access 'bin': No such file or directory\n"
          ]
        }
      ]
    },
    {
      "cell_type": "code",
      "source": [
        "!mkdir Ankit"
      ],
      "metadata": {
        "id": "On42IOMtpa0_"
      },
      "execution_count": null,
      "outputs": []
    },
    {
      "cell_type": "code",
      "source": [
        "!ls"
      ],
      "metadata": {
        "colab": {
          "base_uri": "https://localhost:8080/"
        },
        "id": "mPQtpNVrp1Wl",
        "outputId": "87a521f4-d262-4613-8d80-d7447687b72a"
      },
      "execution_count": null,
      "outputs": [
        {
          "output_type": "stream",
          "name": "stdout",
          "text": [
            "Ankit  sample_data\n"
          ]
        }
      ]
    },
    {
      "cell_type": "code",
      "source": [
        "!cd Ankit"
      ],
      "metadata": {
        "id": "E8T0xiegp3sa"
      },
      "execution_count": null,
      "outputs": []
    },
    {
      "cell_type": "code",
      "source": [
        "!pwd"
      ],
      "metadata": {
        "colab": {
          "base_uri": "https://localhost:8080/"
        },
        "id": "a6nypTn5p69A",
        "outputId": "3376c214-9e05-4343-89fa-e090b8eeb9d2"
      },
      "execution_count": null,
      "outputs": [
        {
          "output_type": "stream",
          "name": "stdout",
          "text": [
            "/content\n"
          ]
        }
      ]
    },
    {
      "cell_type": "code",
      "source": [
        "!cd /content/Ankit"
      ],
      "metadata": {
        "id": "E0Y69R16p80o"
      },
      "execution_count": null,
      "outputs": []
    },
    {
      "cell_type": "code",
      "source": [
        "!pwd"
      ],
      "metadata": {
        "colab": {
          "base_uri": "https://localhost:8080/"
        },
        "id": "v8tf6g0kqDp5",
        "outputId": "4b0e6403-9290-46b9-f523-0d90682f49ad"
      },
      "execution_count": null,
      "outputs": [
        {
          "output_type": "stream",
          "name": "stdout",
          "text": [
            "/content\n"
          ]
        }
      ]
    },
    {
      "cell_type": "code",
      "source": [
        "!wget httpshttps://www.youtube.com/"
      ],
      "metadata": {
        "colab": {
          "base_uri": "https://localhost:8080/"
        },
        "id": "15m5eplNqHO3",
        "outputId": "39211d3b-bedb-4aca-dbb9-f848ec5c0b7c"
      },
      "execution_count": null,
      "outputs": [
        {
          "output_type": "stream",
          "name": "stdout",
          "text": [
            "--2023-06-24 13:47:36--  https://www.youtube.com/\n",
            "Resolving www.youtube.com (www.youtube.com)... 142.250.136.91, 142.250.148.93, 142.250.148.91, ...\n",
            "Connecting to www.youtube.com (www.youtube.com)|142.250.136.91|:443... connected.\n",
            "HTTP request sent, awaiting response... 200 OK\n",
            "Length: unspecified [text/html]\n",
            "Saving to: ‘index.html’\n",
            "\n",
            "\rindex.html              [<=>                 ]       0  --.-KB/s               \rindex.html              [ <=>                ] 696.44K  4.15MB/s    in 0.2s    \n",
            "\n",
            "2023-06-24 13:47:37 (4.15 MB/s) - ‘index.html’ saved [713151]\n",
            "\n"
          ]
        }
      ]
    },
    {
      "cell_type": "code",
      "source": [
        "!del index.html"
      ],
      "metadata": {
        "colab": {
          "base_uri": "https://localhost:8080/"
        },
        "id": "bFOy46fsqQBL",
        "outputId": "16a15012-5127-43d7-deb9-905d00fcda7b"
      },
      "execution_count": null,
      "outputs": [
        {
          "output_type": "stream",
          "name": "stdout",
          "text": [
            "/bin/bash: del: command not found\n"
          ]
        }
      ]
    },
    {
      "cell_type": "code",
      "source": [
        "!rm index.html"
      ],
      "metadata": {
        "colab": {
          "base_uri": "https://localhost:8080/"
        },
        "id": "1CnwUAssqWft",
        "outputId": "95f374a5-e2d1-4014-eeca-9f7a77032d94"
      },
      "execution_count": null,
      "outputs": [
        {
          "output_type": "stream",
          "name": "stdout",
          "text": [
            "rm: cannot remove 'index.html': No such file or directory\n"
          ]
        }
      ]
    },
    {
      "cell_type": "code",
      "source": [
        "!ls"
      ],
      "metadata": {
        "colab": {
          "base_uri": "https://localhost:8080/"
        },
        "id": "_ZBmvsJuqgex",
        "outputId": "02e9600a-d9b4-4cb4-94cf-4cf2d8f0fea1"
      },
      "execution_count": null,
      "outputs": [
        {
          "output_type": "stream",
          "name": "stdout",
          "text": [
            "Ankit  sample_data\n"
          ]
        }
      ]
    },
    {
      "cell_type": "code",
      "source": [
        "!pwd\n"
      ],
      "metadata": {
        "colab": {
          "base_uri": "https://localhost:8080/"
        },
        "id": "toMQPm3fqpwO",
        "outputId": "3e40b60e-b0d2-447d-dc86-97ee70b65b0e"
      },
      "execution_count": null,
      "outputs": [
        {
          "output_type": "stream",
          "name": "stdout",
          "text": [
            "/content\n"
          ]
        }
      ]
    },
    {
      "cell_type": "code",
      "source": [
        "!cd .."
      ],
      "metadata": {
        "id": "qJFJ6ie7rjTJ"
      },
      "execution_count": null,
      "outputs": []
    },
    {
      "cell_type": "code",
      "source": [
        "!cd /content/"
      ],
      "metadata": {
        "id": "DXzbprk8rmyg"
      },
      "execution_count": null,
      "outputs": []
    },
    {
      "cell_type": "code",
      "source": [
        "!cd /content/Ankit"
      ],
      "metadata": {
        "id": "8Q9_E8Uprv46"
      },
      "execution_count": null,
      "outputs": []
    },
    {
      "cell_type": "code",
      "source": [
        "!wget https://www.youtube.com/"
      ],
      "metadata": {
        "colab": {
          "base_uri": "https://localhost:8080/"
        },
        "id": "kBn9TkSbsCJP",
        "outputId": "db942784-cb5a-40da-910f-533094e9af5b"
      },
      "execution_count": null,
      "outputs": [
        {
          "output_type": "stream",
          "name": "stdout",
          "text": [
            "--2023-06-24 13:55:43--  https://www.youtube.com/\n",
            "Resolving www.youtube.com (www.youtube.com)... 142.251.172.93, 142.251.172.91, 142.251.120.91, ...\n",
            "Connecting to www.youtube.com (www.youtube.com)|142.251.172.93|:443... connected.\n",
            "HTTP request sent, awaiting response... 200 OK\n",
            "Length: unspecified [text/html]\n",
            "Saving to: ‘index.html’\n",
            "\n",
            "\rindex.html              [<=>                 ]       0  --.-KB/s               \rindex.html              [ <=>                ] 718.67K  4.10MB/s    in 0.2s    \n",
            "\n",
            "2023-06-24 13:55:43 (4.10 MB/s) - ‘index.html’ saved [735920]\n",
            "\n"
          ]
        }
      ]
    },
    {
      "cell_type": "code",
      "source": [
        "!rm index.html"
      ],
      "metadata": {
        "id": "fofHL1JjsM24"
      },
      "execution_count": null,
      "outputs": []
    },
    {
      "cell_type": "code",
      "source": [],
      "metadata": {
        "id": "33AXE5Y8sG-Y"
      },
      "execution_count": null,
      "outputs": []
    },
    {
      "cell_type": "markdown",
      "source": [
        "###Some magic commands\n",
        "Available line magics:\n",
        "\n",
        ">%alias  %alias_magic  %autoawait  %autocall  %automagic  %autosave  %bookmark  %cat  %cd  %clear  %colors  %conda  %config  %connect_info  %cp  %debug  %dhist  %dirs  %doctest_mode  %ed  %edit  %env  %gui  %hist  %history  %killbgscripts  %ldir  %less  %lf  %lk  %ll  %load  %load_ext  %loadpy  %logoff  %logon  %logstart  %logstate  %logstop  %ls  %lsmagic  %lx  %macro  %magic  %man  %matplotlib  %mkdir  %more  %mv  %notebook  %page  %pastebin  %pdb  %pdef  %pdoc  %pfile  %pinfo  %pinfo2  %pip  %popd  %pprint  %precision  %prun  %psearch  %psource  %pushd  %pwd  %pycat  %pylab  %qtconsole  %quickref  %recall  %rehashx  %reload_ext  %rep  %rerun  %reset  %reset_selective  %rm  %rmdir  %run  %save  %sc  %set_env  %shell  %store  %sx  %system  %tb  %tensorflow_version  %time  %timeit  %unalias  %unload_ext  %who  %who_ls  %whos  %xdel  %xmode\n",
        "\n",
        "Available cell magics:\n",
        ">%%!  %%HTML  %%SVG  %%bash  %%bigquery  %%capture  %%debug  %%file  %%html  %%javascript  %%js  %%latex  %%markdown  %%perl  %%prun  %%pypy  %%python  %%python2  %%python3  %%ruby  %%script  %%sh  %%shell  %%svg  %%sx  %%system  %%time  %%timeit  %%writefile\n",
        "\n",
        "Automagic is ON, % prefix IS NOT needed for line magics.\n",
        "\n",
        "```\n",
        "%lsmagic\n",
        "```\n",
        "For documantation give command like %time?\n",
        "\n",
        "\n"
      ],
      "metadata": {
        "id": "3dxvWsjwsgbI"
      }
    },
    {
      "cell_type": "code",
      "source": [
        "%cd Ankit"
      ],
      "metadata": {
        "colab": {
          "base_uri": "https://localhost:8080/"
        },
        "id": "usjlksHys_wQ",
        "outputId": "3c15c58b-bdda-410d-9bd3-25d56ddb3c5d"
      },
      "execution_count": null,
      "outputs": [
        {
          "output_type": "stream",
          "name": "stdout",
          "text": [
            "/content/Ankit\n"
          ]
        }
      ]
    },
    {
      "cell_type": "code",
      "source": [
        "%mkdir pip"
      ],
      "metadata": {
        "id": "U0jsJ38Qvj21"
      },
      "execution_count": null,
      "outputs": []
    },
    {
      "cell_type": "code",
      "source": [
        "%ls"
      ],
      "metadata": {
        "colab": {
          "base_uri": "https://localhost:8080/"
        },
        "id": "dPN02Z9NvqyY",
        "outputId": "853fb82c-9423-4deb-f523-14566707f556"
      },
      "execution_count": null,
      "outputs": [
        {
          "output_type": "stream",
          "name": "stdout",
          "text": [
            "\u001b[0m\u001b[01;34mpip\u001b[0m/\n"
          ]
        }
      ]
    },
    {
      "cell_type": "code",
      "source": [
        "%pwd"
      ],
      "metadata": {
        "colab": {
          "base_uri": "https://localhost:8080/",
          "height": 35
        },
        "id": "uf76dPTjvswe",
        "outputId": "5212f4b6-637c-4fd0-fdc3-c423befb65cf"
      },
      "execution_count": null,
      "outputs": [
        {
          "output_type": "execute_result",
          "data": {
            "text/plain": [
              "'/content/Ankit'"
            ],
            "application/vnd.google.colaboratory.intrinsic+json": {
              "type": "string"
            }
          },
          "metadata": {},
          "execution_count": 31
        }
      ]
    },
    {
      "cell_type": "code",
      "source": [
        "%cd .."
      ],
      "metadata": {
        "colab": {
          "base_uri": "https://localhost:8080/"
        },
        "id": "ABj9A7lJvvfo",
        "outputId": "a6c3389d-995c-4d59-8b5b-efb8609041de"
      },
      "execution_count": null,
      "outputs": [
        {
          "output_type": "stream",
          "name": "stdout",
          "text": [
            "/content\n"
          ]
        }
      ]
    },
    {
      "cell_type": "code",
      "source": [
        "%rmdir /content/Ankit/pip"
      ],
      "metadata": {
        "id": "_moLGrIQv0Vh"
      },
      "execution_count": null,
      "outputs": []
    },
    {
      "cell_type": "code",
      "source": [
        "%ls /content"
      ],
      "metadata": {
        "colab": {
          "base_uri": "https://localhost:8080/"
        },
        "id": "1fsvg5wkwB8o",
        "outputId": "1f516548-73ba-4af1-f32b-45ee96eeb5af"
      },
      "execution_count": null,
      "outputs": [
        {
          "output_type": "stream",
          "name": "stdout",
          "text": [
            "\u001b[0m\u001b[01;34mAnkit\u001b[0m/  \u001b[01;34msample_data\u001b[0m/\n"
          ]
        }
      ]
    },
    {
      "cell_type": "code",
      "source": [],
      "metadata": {
        "id": "PPITasM2wH98"
      },
      "execution_count": null,
      "outputs": []
    },
    {
      "cell_type": "markdown",
      "source": [
        "We can also use this for run a python code by uploading in drive and usinng linux by command !python 'path'"
      ],
      "metadata": {
        "id": "_mj27Arfxb9H"
      }
    },
    {
      "cell_type": "code",
      "source": [
        "%%writefile Ankit.py\n",
        "def fib(a):\n",
        "  if a<2:\n",
        "    return(a)\n",
        "  else:\n",
        "    return(fib(a-1)+fib(a-2))\n",
        "print(fib(15))"
      ],
      "metadata": {
        "colab": {
          "base_uri": "https://localhost:8080/"
        },
        "id": "MXb-40bix0iz",
        "outputId": "c5014a1b-79ea-4fee-dd85-32b5039483bf"
      },
      "execution_count": null,
      "outputs": [
        {
          "output_type": "stream",
          "name": "stdout",
          "text": [
            "Overwriting Ankit.py\n"
          ]
        }
      ]
    },
    {
      "cell_type": "code",
      "source": [
        "!python /content/Ankit.py"
      ],
      "metadata": {
        "colab": {
          "base_uri": "https://localhost:8080/"
        },
        "id": "ppcmVjciyaoI",
        "outputId": "36ccb756-9c5b-4e3b-e2d6-74bdf865d2d5"
      },
      "execution_count": null,
      "outputs": [
        {
          "output_type": "stream",
          "name": "stdout",
          "text": [
            "  File \"/content/Ankit.py\", line 4\n",
            "    else:\n",
            "         ^\n",
            "IndentationError: unindent does not match any outer indentation level\n"
          ]
        }
      ]
    },
    {
      "cell_type": "code",
      "source": [
        "!python /content/Ankit.py"
      ],
      "metadata": {
        "colab": {
          "base_uri": "https://localhost:8080/"
        },
        "id": "pUYehqyayifi",
        "outputId": "7a4fae72-2155-4135-d261-c3ad39d93b5b"
      },
      "execution_count": null,
      "outputs": [
        {
          "output_type": "stream",
          "name": "stdout",
          "text": [
            "610\n"
          ]
        }
      ]
    },
    {
      "cell_type": "code",
      "source": [
        "%time\n",
        "!python /content/Ankit.py"
      ],
      "metadata": {
        "colab": {
          "base_uri": "https://localhost:8080/"
        },
        "id": "BvHBUbFhyznG",
        "outputId": "0b1ffd26-79b0-4305-e054-e3588dee42fb"
      },
      "execution_count": null,
      "outputs": [
        {
          "output_type": "stream",
          "name": "stdout",
          "text": [
            "CPU times: user 2 µs, sys: 0 ns, total: 2 µs\n",
            "Wall time: 5.72 µs\n",
            "610\n"
          ]
        }
      ]
    },
    {
      "cell_type": "code",
      "source": [
        "%%HTML\n",
        "<!DOCTYPE html>\n",
        "<html lang=\"en\">\n",
        "    <head>\n",
        "        <title>Ankit_iitd</title>\n",
        "    </head>\n",
        "    <body><hr>\n",
        "        <div id=\"header_text\">Welcome to my web page!!</div><hr>\n",
        "        <h1>Ankit Choudhary</h1>\n",
        "        <br>\n",
        "        <br>\n",
        "        <img src=\"https://scontent.fdel29-1.fna.fbcdn.net/v/t39.30808-6/346027367_6399100383487775_8806614768208842292_n.jpg?_nc_cat=101&ccb=1-7&_nc_sid=09cbfe&_nc_ohc=EZRfLnWBbrQAX-26_oX&_nc_ht=scontent.fdel29-1.fna&oh=00_AfCIakvGBuym_SgJoF34xgFFfKgTl10-YVIV_cqtaU2myQ&oe=646EAF6D\" width=\"20%\">\n",
        "        <h1>About me</h1>\n",
        "        <h3>Contact me on:</h3>\n",
        "        <table><tbody><tr>\n",
        "        <td> </td>\n",
        "        <td><p><a href=\"https://www.instagram.com/itsme_ankit_choudhary/\"><img src=\"https://th.bing.com/th/id/OIP.JCI8klaaA1w4LCtljpeJoAHaHa?pid=ImgDet&rs=1\"width=18%></a></p></td>\n",
        "        <td><p><a href=\"https://www.linkedin.com/in/ankit-choudhary-a5066a257/\"><img src=\"https://th.bing.com/th/id/OIP.Cverxr-lN_3QjtMAqJFQYwHaEK?pid=ImgDet&rs=1\"width=25%></a></p></td>\n",
        "        <td><p><a href=\"https://github.com/AnkitChoudhaary\"><img src=\"https://www.macobserver.com/wp-content/uploads/2019/05/workfeatured-GitHub-2.png\"width=15%></a></p></td>\n",
        "        <p><a href=\"https://www.instagram.com/itsme_ankit_choudhary/\"><img src=\"https://www.macobserver.com/wp-content/uploaJoAHaHa?pid=ImgDet&rs=1ds/2019/05/workfeatured-GitHub-2.png\"width=5%></a></p>\n",
        "        </tr></tbody></table>\n",
        "    </body>\n",
        "</html>"
      ],
      "metadata": {
        "id": "cvgCmS0Qy7zQ",
        "colab": {
          "base_uri": "https://localhost:8080/",
          "height": 351
        },
        "outputId": "0e10b5ad-add8-45e4-9607-b2f2dc78350f"
      },
      "execution_count": 3,
      "outputs": [
        {
          "output_type": "display_data",
          "data": {
            "text/plain": [
              "<IPython.core.display.HTML object>"
            ],
            "text/html": [
              "<!DOCTYPE html>\n",
              "<html lang=\"en\">\n",
              "    <head>\n",
              "        <title>Ankit_iitd</title>\n",
              "    </head>\n",
              "    <body><hr>\n",
              "        <div id=\"header_text\">Welcome to my web page!!</div><hr>\n",
              "        <h1>Ankit Choudhary</h1>\n",
              "        <br>\n",
              "        <br>\n",
              "        <img src=\"https://scontent.fdel29-1.fna.fbcdn.net/v/t39.30808-6/346027367_6399100383487775_8806614768208842292_n.jpg?_nc_cat=101&ccb=1-7&_nc_sid=09cbfe&_nc_ohc=EZRfLnWBbrQAX-26_oX&_nc_ht=scontent.fdel29-1.fna&oh=00_AfCIakvGBuym_SgJoF34xgFFfKgTl10-YVIV_cqtaU2myQ&oe=646EAF6D\" width=\"20%\">\n",
              "        <h1>About me</h1>\n",
              "        <h3>Contact me on:</h3>\n",
              "        <table><tbody><tr>\n",
              "        <td> </td>\n",
              "        <td><p><a href=\"https://www.instagram.com/itsme_ankit_choudhary/\"><img src=\"https://th.bing.com/th/id/OIP.JCI8klaaA1w4LCtljpeJoAHaHa?pid=ImgDet&rs=1\"width=18%></a></p></td>\n",
              "        <td><p><a href=\"https://www.linkedin.com/in/ankit-choudhary-a5066a257/\"><img src=\"https://th.bing.com/th/id/OIP.Cverxr-lN_3QjtMAqJFQYwHaEK?pid=ImgDet&rs=1\"width=25%></a></p></td>\n",
              "        <td><p><a href=\"https://github.com/AnkitChoudhaary\"><img src=\"https://www.macobserver.com/wp-content/uploads/2019/05/workfeatured-GitHub-2.png\"width=15%></a></p></td>\n",
              "        <p><a href=\"https://www.instagram.com/itsme_ankit_choudhary/\"><img src=\"https://www.macobserver.com/wp-content/uploaJoAHaHa?pid=ImgDet&rs=1ds/2019/05/workfeatured-GitHub-2.png\"width=5%></a></p>\n",
              "        </tr></tbody></table>\n",
              "    </body>\n",
              "</html>\n"
            ]
          },
          "metadata": {}
        }
      ]
    },
    {
      "cell_type": "code",
      "source": [],
      "metadata": {
        "id": "lK3S84RoOHZs"
      },
      "execution_count": null,
      "outputs": []
    }
  ]
}